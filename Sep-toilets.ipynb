{
 "cells": [
  {
   "cell_type": "code",
   "execution_count": 17,
   "metadata": {},
   "outputs": [],
   "source": [
    "import numpy as np\n",
    "import pandas as pd"
   ]
  },
  {
   "cell_type": "markdown",
   "metadata": {},
   "source": [
    "## Reading the Kanyama dataset"
   ]
  },
  {
   "cell_type": "code",
   "execution_count": 18,
   "metadata": {},
   "outputs": [
    {
     "data": {
      "text/html": [
       "<div>\n",
       "<style scoped>\n",
       "    .dataframe tbody tr th:only-of-type {\n",
       "        vertical-align: middle;\n",
       "    }\n",
       "\n",
       "    .dataframe tbody tr th {\n",
       "        vertical-align: top;\n",
       "    }\n",
       "\n",
       "    .dataframe thead th {\n",
       "        text-align: right;\n",
       "    }\n",
       "</style>\n",
       "<table border=\"1\" class=\"dataframe\">\n",
       "  <thead>\n",
       "    <tr style=\"text-align: right;\">\n",
       "      <th></th>\n",
       "      <th>Deployment</th>\n",
       "      <th>Enumerator</th>\n",
       "      <th>Status</th>\n",
       "      <th>Response Code</th>\n",
       "      <th>Drafted On</th>\n",
       "      <th>Submitted On</th>\n",
       "      <th>Approval Level</th>\n",
       "      <th>IP Address</th>\n",
       "      <th>ENUMERATORS NAME</th>\n",
       "      <th>ENUMERATORS NAME (Other (please specify)) - specify</th>\n",
       "      <th>...</th>\n",
       "      <th>Is the toilet easily accessible to the following?: Light Truck - Yes103</th>\n",
       "      <th>Is the toilet easily accessible to the following?: Light Truck - No104</th>\n",
       "      <th>Is the toilet easily accessible to the following?: Push Cart - Yes105</th>\n",
       "      <th>Is the toilet easily accessible to the following?: Push Cart - No106</th>\n",
       "      <th>Is the toilet easily accessible to the following people?: Persons with dissability - Yes107</th>\n",
       "      <th>Is the toilet easily accessible to the following people?: Persons with dissability - No108</th>\n",
       "      <th>Is the toilet easily accessible to the following people?: Children - Yes109</th>\n",
       "      <th>Is the toilet easily accessible to the following people?: Children - No110</th>\n",
       "      <th>Is the toilet easily accessible to the following people?: Women at night - Yes111</th>\n",
       "      <th>Is the toilet easily accessible to the following people?: Women at night - No112</th>\n",
       "    </tr>\n",
       "  </thead>\n",
       "  <tbody>\n",
       "    <tr>\n",
       "      <th>0</th>\n",
       "      <td>Data Entry For Survey</td>\n",
       "      <td>#########</td>\n",
       "      <td>Final</td>\n",
       "      <td>Ted mwitwa-</td>\n",
       "      <td>2009-01-01 06:36:13</td>\n",
       "      <td>2009-01-01 07:21:46</td>\n",
       "      <td>NaN</td>\n",
       "      <td>41.72.102.114</td>\n",
       "      <td>#########</td>\n",
       "      <td>#########</td>\n",
       "      <td>...</td>\n",
       "      <td>NaN</td>\n",
       "      <td>NaN</td>\n",
       "      <td>NaN</td>\n",
       "      <td>NaN</td>\n",
       "      <td>NaN</td>\n",
       "      <td>NaN</td>\n",
       "      <td>NaN</td>\n",
       "      <td>NaN</td>\n",
       "      <td>NaN</td>\n",
       "      <td>NaN</td>\n",
       "    </tr>\n",
       "    <tr>\n",
       "      <th>1</th>\n",
       "      <td>Data Entry For Survey</td>\n",
       "      <td>#########</td>\n",
       "      <td>Final</td>\n",
       "      <td>neduser0217-5HXV2A</td>\n",
       "      <td>2017-03-20 08:44:24</td>\n",
       "      <td>2017-03-20 09:05:14</td>\n",
       "      <td>NaN</td>\n",
       "      <td>41.72.102.200</td>\n",
       "      <td>#########</td>\n",
       "      <td>#########</td>\n",
       "      <td>...</td>\n",
       "      <td>NaN</td>\n",
       "      <td>NaN</td>\n",
       "      <td>NaN</td>\n",
       "      <td>NaN</td>\n",
       "      <td>NaN</td>\n",
       "      <td>NaN</td>\n",
       "      <td>NaN</td>\n",
       "      <td>NaN</td>\n",
       "      <td>NaN</td>\n",
       "      <td>NaN</td>\n",
       "    </tr>\n",
       "    <tr>\n",
       "      <th>2</th>\n",
       "      <td>Data Entry For Survey</td>\n",
       "      <td>#########</td>\n",
       "      <td>Final</td>\n",
       "      <td>neduser0317-5HXVY5</td>\n",
       "      <td>2017-03-20 09:00:19</td>\n",
       "      <td>2017-03-20 09:14:25</td>\n",
       "      <td>NaN</td>\n",
       "      <td>41.72.102.51</td>\n",
       "      <td>#########</td>\n",
       "      <td>#########</td>\n",
       "      <td>...</td>\n",
       "      <td>NaN</td>\n",
       "      <td>NaN</td>\n",
       "      <td>NaN</td>\n",
       "      <td>NaN</td>\n",
       "      <td>NaN</td>\n",
       "      <td>NaN</td>\n",
       "      <td>NaN</td>\n",
       "      <td>NaN</td>\n",
       "      <td>NaN</td>\n",
       "      <td>NaN</td>\n",
       "    </tr>\n",
       "    <tr>\n",
       "      <th>3</th>\n",
       "      <td>Data Entry For Survey</td>\n",
       "      <td>#########</td>\n",
       "      <td>Final</td>\n",
       "      <td>nedusera001917-5HXVBN</td>\n",
       "      <td>2017-03-20 08:49:24</td>\n",
       "      <td>2017-03-20 09:18:21</td>\n",
       "      <td>NaN</td>\n",
       "      <td>41.72.102.63</td>\n",
       "      <td>#########</td>\n",
       "      <td>#########</td>\n",
       "      <td>...</td>\n",
       "      <td>NaN</td>\n",
       "      <td>NaN</td>\n",
       "      <td>NaN</td>\n",
       "      <td>NaN</td>\n",
       "      <td>NaN</td>\n",
       "      <td>NaN</td>\n",
       "      <td>NaN</td>\n",
       "      <td>NaN</td>\n",
       "      <td>NaN</td>\n",
       "      <td>NaN</td>\n",
       "    </tr>\n",
       "    <tr>\n",
       "      <th>4</th>\n",
       "      <td>Data Entry For Survey</td>\n",
       "      <td>#########</td>\n",
       "      <td>Final</td>\n",
       "      <td>neduser2417-5HXVT9</td>\n",
       "      <td>2017-03-20 08:57:43</td>\n",
       "      <td>2017-03-20 09:20:08</td>\n",
       "      <td>NaN</td>\n",
       "      <td>41.72.102.176</td>\n",
       "      <td>#########</td>\n",
       "      <td>#########</td>\n",
       "      <td>...</td>\n",
       "      <td>NaN</td>\n",
       "      <td>NaN</td>\n",
       "      <td>NaN</td>\n",
       "      <td>NaN</td>\n",
       "      <td>NaN</td>\n",
       "      <td>NaN</td>\n",
       "      <td>NaN</td>\n",
       "      <td>NaN</td>\n",
       "      <td>NaN</td>\n",
       "      <td>NaN</td>\n",
       "    </tr>\n",
       "  </tbody>\n",
       "</table>\n",
       "<p>5 rows × 292 columns</p>\n",
       "</div>"
      ],
      "text/plain": [
       "              Deployment Enumerator Status          Response Code  \\\n",
       "0  Data Entry For Survey  #########  Final            Ted mwitwa-   \n",
       "1  Data Entry For Survey  #########  Final     neduser0217-5HXV2A   \n",
       "2  Data Entry For Survey  #########  Final     neduser0317-5HXVY5   \n",
       "3  Data Entry For Survey  #########  Final  nedusera001917-5HXVBN   \n",
       "4  Data Entry For Survey  #########  Final     neduser2417-5HXVT9   \n",
       "\n",
       "           Drafted On        Submitted On  Approval Level     IP Address  \\\n",
       "0 2009-01-01 06:36:13 2009-01-01 07:21:46             NaN  41.72.102.114   \n",
       "1 2017-03-20 08:44:24 2017-03-20 09:05:14             NaN  41.72.102.200   \n",
       "2 2017-03-20 09:00:19 2017-03-20 09:14:25             NaN   41.72.102.51   \n",
       "3 2017-03-20 08:49:24 2017-03-20 09:18:21             NaN   41.72.102.63   \n",
       "4 2017-03-20 08:57:43 2017-03-20 09:20:08             NaN  41.72.102.176   \n",
       "\n",
       "  ENUMERATORS NAME ENUMERATORS NAME (Other (please specify)) - specify  ...  \\\n",
       "0        #########                                          #########   ...   \n",
       "1        #########                                          #########   ...   \n",
       "2        #########                                          #########   ...   \n",
       "3        #########                                          #########   ...   \n",
       "4        #########                                          #########   ...   \n",
       "\n",
       "  Is the toilet easily accessible to the following?: Light Truck - Yes103  \\\n",
       "0                                                NaN                        \n",
       "1                                                NaN                        \n",
       "2                                                NaN                        \n",
       "3                                                NaN                        \n",
       "4                                                NaN                        \n",
       "\n",
       "  Is the toilet easily accessible to the following?: Light Truck - No104  \\\n",
       "0                                                NaN                       \n",
       "1                                                NaN                       \n",
       "2                                                NaN                       \n",
       "3                                                NaN                       \n",
       "4                                                NaN                       \n",
       "\n",
       "  Is the toilet easily accessible to the following?: Push Cart - Yes105  \\\n",
       "0                                                NaN                      \n",
       "1                                                NaN                      \n",
       "2                                                NaN                      \n",
       "3                                                NaN                      \n",
       "4                                                NaN                      \n",
       "\n",
       "  Is the toilet easily accessible to the following?: Push Cart - No106  \\\n",
       "0                                                NaN                     \n",
       "1                                                NaN                     \n",
       "2                                                NaN                     \n",
       "3                                                NaN                     \n",
       "4                                                NaN                     \n",
       "\n",
       "  Is the toilet easily accessible to the following people?: Persons with dissability - Yes107  \\\n",
       "0                                                NaN                                            \n",
       "1                                                NaN                                            \n",
       "2                                                NaN                                            \n",
       "3                                                NaN                                            \n",
       "4                                                NaN                                            \n",
       "\n",
       "  Is the toilet easily accessible to the following people?: Persons with dissability - No108  \\\n",
       "0                                                NaN                                           \n",
       "1                                                NaN                                           \n",
       "2                                                NaN                                           \n",
       "3                                                NaN                                           \n",
       "4                                                NaN                                           \n",
       "\n",
       "  Is the toilet easily accessible to the following people?: Children - Yes109  \\\n",
       "0                                                NaN                            \n",
       "1                                                NaN                            \n",
       "2                                                NaN                            \n",
       "3                                                NaN                            \n",
       "4                                                NaN                            \n",
       "\n",
       "  Is the toilet easily accessible to the following people?: Children - No110  \\\n",
       "0                                                NaN                           \n",
       "1                                                NaN                           \n",
       "2                                                NaN                           \n",
       "3                                                NaN                           \n",
       "4                                                NaN                           \n",
       "\n",
       "   Is the toilet easily accessible to the following people?: Women at night - Yes111  \\\n",
       "0                                                NaN                                   \n",
       "1                                                NaN                                   \n",
       "2                                                NaN                                   \n",
       "3                                                NaN                                   \n",
       "4                                                NaN                                   \n",
       "\n",
       "   Is the toilet easily accessible to the following people?: Women at night - No112  \n",
       "0                                                NaN                                 \n",
       "1                                                NaN                                 \n",
       "2                                                NaN                                 \n",
       "3                                                NaN                                 \n",
       "4                                                NaN                                 \n",
       "\n",
       "[5 rows x 292 columns]"
      ]
     },
     "execution_count": 18,
     "metadata": {},
     "output_type": "execute_result"
    }
   ],
   "source": [
    "Kanyama = pd.read_excel('KANYAMA.XLSX',sheet_name=1,skiprows = 1)\n",
    "Kanyama.head()"
   ]
  },
  {
   "cell_type": "code",
   "execution_count": 19,
   "metadata": {},
   "outputs": [
    {
     "data": {
      "text/plain": [
       "Index(['Deployment', 'Enumerator', 'Status', 'Response Code', 'Drafted On',\n",
       "       'Submitted On', 'Approval Level', 'IP Address', 'ENUMERATORS NAME',\n",
       "       'ENUMERATORS NAME (Other (please specify)) - specify',\n",
       "       ...\n",
       "       'Is the toilet easily accessible to the following?: Light Truck - Yes103',\n",
       "       'Is the toilet easily accessible to the following?: Light Truck - No104',\n",
       "       'Is the toilet easily accessible to the following?: Push Cart - Yes105',\n",
       "       'Is the toilet easily accessible to the following?: Push Cart - No106',\n",
       "       'Is the toilet easily accessible to the following people?: Persons with dissability - Yes107',\n",
       "       'Is the toilet easily accessible to the following people?: Persons with dissability - No108',\n",
       "       'Is the toilet easily accessible to the following people?: Children - Yes109',\n",
       "       'Is the toilet easily accessible to the following people?: Children - No110',\n",
       "       'Is the toilet easily accessible to the following people?: Women at night - Yes111',\n",
       "       'Is the toilet easily accessible to the following people?: Women at night - No112'],\n",
       "      dtype='object', length=292)"
      ]
     },
     "execution_count": 19,
     "metadata": {},
     "output_type": "execute_result"
    }
   ],
   "source": [
    "Kanyama.columns"
   ]
  },
  {
   "cell_type": "code",
   "execution_count": 20,
   "metadata": {},
   "outputs": [],
   "source": [
    "Kanyama = Kanyama[['TAKE  PHOTO OF INSIDE THE TOILET', '4.3 INTERFACE']]"
   ]
  },
  {
   "cell_type": "code",
   "execution_count": 22,
   "metadata": {},
   "outputs": [],
   "source": [
    "Kanyama.dropna(inplace = True)\n",
    "Kanyama.head(100)\n",
    "\n",
    "Kanyama.to_csv(\"Kanyama_photos.csv\", index = False)"
   ]
  },
  {
   "cell_type": "markdown",
   "metadata": {},
   "source": [
    "## Removing the multiple options "
   ]
  },
  {
   "cell_type": "code",
   "execution_count": 23,
   "metadata": {},
   "outputs": [],
   "source": [
    "Kanyama['4.3 INTERFACE'] = Kanyama['4.3 INTERFACE'].replace(to_replace = r',.*', value = '', regex = True)\n",
    "Kanyama['TAKE  PHOTO OF INSIDE THE TOILET'] = Kanyama['TAKE  PHOTO OF INSIDE THE TOILET'].replace(to_replace = r' ', value = '\\n', regex = True)\n"
   ]
  },
  {
   "cell_type": "code",
   "execution_count": 24,
   "metadata": {},
   "outputs": [],
   "source": [
    "is_ft = Kanyama['4.3 INTERFACE'] == 1\n",
    "is_pf = [2,3]\n",
    "is_pl = [4,5]\n",
    "\n",
    "flush_toilet = Kanyama[is_ft]\n",
    "pour_flush = Kanyama[Kanyama['4.3 INTERFACE'].isin(is_pf)]\n",
    "pit_latrine = Kanyama[Kanyama['4.3 INTERFACE'].isin(is_pl)]"
   ]
  },
  {
   "cell_type": "markdown",
   "metadata": {},
   "source": [
    "## Still have to remove the \" by hand on txt file"
   ]
  },
  {
   "cell_type": "code",
   "execution_count": 27,
   "metadata": {},
   "outputs": [
    {
     "name": "stdout",
     "output_type": "stream",
     "text": [
      "(756, 2)\n"
     ]
    },
    {
     "name": "stderr",
     "output_type": "stream",
     "text": [
      "/anaconda3/envs/Deep_Learning/lib/python3.6/site-packages/ipykernel_launcher.py:3: FutureWarning: The signature of `Series.to_csv` was aligned to that of `DataFrame.to_csv`, and argument 'header' will change its default value from False to True: please pass an explicit value to suppress this warning.\n",
      "  This is separate from the ipykernel package so we can avoid doing imports until\n"
     ]
    }
   ],
   "source": [
    "print(flush_toilet.shape)\n",
    "\n",
    "flush_toilet['TAKE  PHOTO OF INSIDE THE TOILET'].to_csv('flush_toilet.txt', index = False, sep = ',')"
   ]
  },
  {
   "cell_type": "code",
   "execution_count": 28,
   "metadata": {},
   "outputs": [
    {
     "name": "stdout",
     "output_type": "stream",
     "text": [
      "(3309, 2)\n"
     ]
    },
    {
     "name": "stderr",
     "output_type": "stream",
     "text": [
      "/anaconda3/envs/Deep_Learning/lib/python3.6/site-packages/ipykernel_launcher.py:3: FutureWarning: The signature of `Series.to_csv` was aligned to that of `DataFrame.to_csv`, and argument 'header' will change its default value from False to True: please pass an explicit value to suppress this warning.\n",
      "  This is separate from the ipykernel package so we can avoid doing imports until\n"
     ]
    }
   ],
   "source": [
    "print(pour_flush.shape)\n",
    "\n",
    "pour_flush['TAKE  PHOTO OF INSIDE THE TOILET'].to_csv('pour_flush.txt', index = False, sep = ',')"
   ]
  },
  {
   "cell_type": "code",
   "execution_count": 29,
   "metadata": {},
   "outputs": [
    {
     "name": "stdout",
     "output_type": "stream",
     "text": [
      "(8605, 2)\n"
     ]
    },
    {
     "name": "stderr",
     "output_type": "stream",
     "text": [
      "/anaconda3/envs/Deep_Learning/lib/python3.6/site-packages/ipykernel_launcher.py:3: FutureWarning: The signature of `Series.to_csv` was aligned to that of `DataFrame.to_csv`, and argument 'header' will change its default value from False to True: please pass an explicit value to suppress this warning.\n",
      "  This is separate from the ipykernel package so we can avoid doing imports until\n"
     ]
    }
   ],
   "source": [
    "print(pit_latrine.shape)\n",
    "\n",
    "pit_latrine['TAKE  PHOTO OF INSIDE THE TOILET'].to_csv('pit_latrine.txt', index = False, sep = ',')"
   ]
  },
  {
   "cell_type": "code",
   "execution_count": null,
   "metadata": {},
   "outputs": [],
   "source": []
  }
 ],
 "metadata": {
  "kernelspec": {
   "display_name": "Python 3",
   "language": "python",
   "name": "python3"
  },
  "language_info": {
   "codemirror_mode": {
    "name": "ipython",
    "version": 3
   },
   "file_extension": ".py",
   "mimetype": "text/x-python",
   "name": "python",
   "nbconvert_exporter": "python",
   "pygments_lexer": "ipython3",
   "version": "3.6.8"
  }
 },
 "nbformat": 4,
 "nbformat_minor": 2
}
